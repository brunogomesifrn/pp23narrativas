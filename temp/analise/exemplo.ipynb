{
 "cells": [
  {
   "cell_type": "code",
   "execution_count": 2,
   "id": "17c6fd5e-e69c-47c0-bebf-68ee44df0ba2",
   "metadata": {},
   "outputs": [
    {
     "data": {
      "text/html": [
       "<div>\n",
       "<style scoped>\n",
       "    .dataframe tbody tr th:only-of-type {\n",
       "        vertical-align: middle;\n",
       "    }\n",
       "\n",
       "    .dataframe tbody tr th {\n",
       "        vertical-align: top;\n",
       "    }\n",
       "\n",
       "    .dataframe thead th {\n",
       "        text-align: right;\n",
       "    }\n",
       "</style>\n",
       "<table border=\"1\" class=\"dataframe\">\n",
       "  <thead>\n",
       "    <tr style=\"text-align: right;\">\n",
       "      <th></th>\n",
       "      <th>Titulo</th>\n",
       "      <th>Tipo</th>\n",
       "      <th>Qtd Estilo</th>\n",
       "      <th>Estilos</th>\n",
       "      <th>Qtd Personagens Reais</th>\n",
       "      <th>Qtd Personagens Imaginarios</th>\n",
       "      <th>Qtd Personagens Criancas</th>\n",
       "      <th>Qtd Personagens Adultos</th>\n",
       "      <th>Qtd Personagens Idosos</th>\n",
       "      <th>Qtd Personagens Animais</th>\n",
       "      <th>Qtd Locais</th>\n",
       "      <th>Locais</th>\n",
       "      <th>Qtd Turnos</th>\n",
       "      <th>Turnos</th>\n",
       "      <th>Qtd Publicos</th>\n",
       "      <th>Publicos</th>\n",
       "      <th>Periodo</th>\n",
       "    </tr>\n",
       "  </thead>\n",
       "  <tbody>\n",
       "    <tr>\n",
       "      <th>0</th>\n",
       "      <td>Saci</td>\n",
       "      <td>Lenda</td>\n",
       "      <td>1</td>\n",
       "      <td>Aventura</td>\n",
       "      <td>0</td>\n",
       "      <td>1</td>\n",
       "      <td>1</td>\n",
       "      <td>0</td>\n",
       "      <td>0</td>\n",
       "      <td>0</td>\n",
       "      <td>1</td>\n",
       "      <td>Floresta</td>\n",
       "      <td>2</td>\n",
       "      <td>Dia;Noite</td>\n",
       "      <td>3</td>\n",
       "      <td>Criança;Adulto;Idoso</td>\n",
       "      <td>Não definido</td>\n",
       "    </tr>\n",
       "    <tr>\n",
       "      <th>1</th>\n",
       "      <td>Cumadre Fulozinha</td>\n",
       "      <td>História</td>\n",
       "      <td>2</td>\n",
       "      <td>Ação;Terror</td>\n",
       "      <td>1</td>\n",
       "      <td>1</td>\n",
       "      <td>1</td>\n",
       "      <td>1</td>\n",
       "      <td>0</td>\n",
       "      <td>1</td>\n",
       "      <td>2</td>\n",
       "      <td>Mangue;Floresta</td>\n",
       "      <td>2</td>\n",
       "      <td>Dia;Noite</td>\n",
       "      <td>2</td>\n",
       "      <td>Adulto;Idoso</td>\n",
       "      <td>Não definido</td>\n",
       "    </tr>\n",
       "    <tr>\n",
       "      <th>2</th>\n",
       "      <td>Botijas de Ouro</td>\n",
       "      <td>História</td>\n",
       "      <td>1</td>\n",
       "      <td>Ação</td>\n",
       "      <td>1</td>\n",
       "      <td>1</td>\n",
       "      <td>0</td>\n",
       "      <td>1</td>\n",
       "      <td>1</td>\n",
       "      <td>0</td>\n",
       "      <td>1</td>\n",
       "      <td>Rural</td>\n",
       "      <td>1</td>\n",
       "      <td>Noite</td>\n",
       "      <td>2</td>\n",
       "      <td>Adulto;Idoso</td>\n",
       "      <td>Não definido</td>\n",
       "    </tr>\n",
       "    <tr>\n",
       "      <th>3</th>\n",
       "      <td>Procissao das Almas</td>\n",
       "      <td>História</td>\n",
       "      <td>1</td>\n",
       "      <td>Terror</td>\n",
       "      <td>1</td>\n",
       "      <td>1</td>\n",
       "      <td>0</td>\n",
       "      <td>1</td>\n",
       "      <td>1</td>\n",
       "      <td>0</td>\n",
       "      <td>2</td>\n",
       "      <td>Rural;Urbano</td>\n",
       "      <td>1</td>\n",
       "      <td>Noite</td>\n",
       "      <td>2</td>\n",
       "      <td>Adulto;Idoso</td>\n",
       "      <td>Não definido</td>\n",
       "    </tr>\n",
       "    <tr>\n",
       "      <th>4</th>\n",
       "      <td>Batatao</td>\n",
       "      <td>História</td>\n",
       "      <td>1</td>\n",
       "      <td>Terror</td>\n",
       "      <td>1</td>\n",
       "      <td>1</td>\n",
       "      <td>0</td>\n",
       "      <td>1</td>\n",
       "      <td>1</td>\n",
       "      <td>0</td>\n",
       "      <td>1</td>\n",
       "      <td>Rural</td>\n",
       "      <td>1</td>\n",
       "      <td>Noite</td>\n",
       "      <td>2</td>\n",
       "      <td>Adulto;Idoso</td>\n",
       "      <td>Não definido</td>\n",
       "    </tr>\n",
       "    <tr>\n",
       "      <th>5</th>\n",
       "      <td>Pesador</td>\n",
       "      <td>História</td>\n",
       "      <td>1</td>\n",
       "      <td>Terror</td>\n",
       "      <td>1</td>\n",
       "      <td>1</td>\n",
       "      <td>1</td>\n",
       "      <td>1</td>\n",
       "      <td>1</td>\n",
       "      <td>0</td>\n",
       "      <td>2</td>\n",
       "      <td>Rural;Urbano</td>\n",
       "      <td>1</td>\n",
       "      <td>Noite</td>\n",
       "      <td>3</td>\n",
       "      <td>Criança;Adulto;Idoso</td>\n",
       "      <td>Não definido</td>\n",
       "    </tr>\n",
       "    <tr>\n",
       "      <th>6</th>\n",
       "      <td>Corpo Seco</td>\n",
       "      <td>História</td>\n",
       "      <td>1</td>\n",
       "      <td>Terror</td>\n",
       "      <td>1</td>\n",
       "      <td>1</td>\n",
       "      <td>0</td>\n",
       "      <td>1</td>\n",
       "      <td>1</td>\n",
       "      <td>0</td>\n",
       "      <td>1</td>\n",
       "      <td>Rural</td>\n",
       "      <td>1</td>\n",
       "      <td>Noite</td>\n",
       "      <td>2</td>\n",
       "      <td>Adulto;Idoso</td>\n",
       "      <td>Não definido</td>\n",
       "    </tr>\n",
       "    <tr>\n",
       "      <th>7</th>\n",
       "      <td>Mula sem Cabeca</td>\n",
       "      <td>Lenda</td>\n",
       "      <td>1</td>\n",
       "      <td>Terror</td>\n",
       "      <td>1</td>\n",
       "      <td>1</td>\n",
       "      <td>0</td>\n",
       "      <td>1</td>\n",
       "      <td>1</td>\n",
       "      <td>1</td>\n",
       "      <td>1</td>\n",
       "      <td>Floresta</td>\n",
       "      <td>1</td>\n",
       "      <td>Noite</td>\n",
       "      <td>2</td>\n",
       "      <td>Adulto;Idoso</td>\n",
       "      <td>Não definido</td>\n",
       "    </tr>\n",
       "    <tr>\n",
       "      <th>8</th>\n",
       "      <td>Vitoria-Regia</td>\n",
       "      <td>Conto</td>\n",
       "      <td>1</td>\n",
       "      <td>Aventura</td>\n",
       "      <td>1</td>\n",
       "      <td>1</td>\n",
       "      <td>1</td>\n",
       "      <td>1</td>\n",
       "      <td>0</td>\n",
       "      <td>0</td>\n",
       "      <td>1</td>\n",
       "      <td>Rural</td>\n",
       "      <td>1</td>\n",
       "      <td>Dia</td>\n",
       "      <td>3</td>\n",
       "      <td>Criança;Adulto;Idoso</td>\n",
       "      <td>Não definido</td>\n",
       "    </tr>\n",
       "    <tr>\n",
       "      <th>9</th>\n",
       "      <td>Lobsomen</td>\n",
       "      <td>História</td>\n",
       "      <td>1</td>\n",
       "      <td>Terror</td>\n",
       "      <td>1</td>\n",
       "      <td>1</td>\n",
       "      <td>0</td>\n",
       "      <td>1</td>\n",
       "      <td>0</td>\n",
       "      <td>1</td>\n",
       "      <td>1</td>\n",
       "      <td>Floresta</td>\n",
       "      <td>1</td>\n",
       "      <td>Noite</td>\n",
       "      <td>2</td>\n",
       "      <td>Adulto;Idoso</td>\n",
       "      <td>Não definido</td>\n",
       "    </tr>\n",
       "    <tr>\n",
       "      <th>10</th>\n",
       "      <td>Boto Cor de Rosa</td>\n",
       "      <td>Conto</td>\n",
       "      <td>1</td>\n",
       "      <td>Aventura</td>\n",
       "      <td>1</td>\n",
       "      <td>1</td>\n",
       "      <td>0</td>\n",
       "      <td>2</td>\n",
       "      <td>0</td>\n",
       "      <td>1</td>\n",
       "      <td>1</td>\n",
       "      <td>Floresta</td>\n",
       "      <td>1</td>\n",
       "      <td>Noite</td>\n",
       "      <td>3</td>\n",
       "      <td>Criança;Adulto;Idoso</td>\n",
       "      <td>Não definido</td>\n",
       "    </tr>\n",
       "    <tr>\n",
       "      <th>11</th>\n",
       "      <td>Iara</td>\n",
       "      <td>Conto</td>\n",
       "      <td>1</td>\n",
       "      <td>Ação</td>\n",
       "      <td>1</td>\n",
       "      <td>1</td>\n",
       "      <td>0</td>\n",
       "      <td>1</td>\n",
       "      <td>1</td>\n",
       "      <td>0</td>\n",
       "      <td>1</td>\n",
       "      <td>Litoral</td>\n",
       "      <td>1</td>\n",
       "      <td>Dia</td>\n",
       "      <td>3</td>\n",
       "      <td>Criança;Adulto;Idoso</td>\n",
       "      <td>Não definido</td>\n",
       "    </tr>\n",
       "  </tbody>\n",
       "</table>\n",
       "</div>"
      ],
      "text/plain": [
       "                 Titulo      Tipo  Qtd Estilo      Estilos  \\\n",
       "0                  Saci     Lenda           1     Aventura   \n",
       "1     Cumadre Fulozinha  História           2  Ação;Terror   \n",
       "2       Botijas de Ouro  História           1         Ação   \n",
       "3   Procissao das Almas  História           1       Terror   \n",
       "4               Batatao  História           1       Terror   \n",
       "5               Pesador  História           1       Terror   \n",
       "6            Corpo Seco  História           1       Terror   \n",
       "7       Mula sem Cabeca     Lenda           1       Terror   \n",
       "8         Vitoria-Regia     Conto           1     Aventura   \n",
       "9              Lobsomen  História           1       Terror   \n",
       "10     Boto Cor de Rosa     Conto           1     Aventura   \n",
       "11                 Iara     Conto           1         Ação   \n",
       "\n",
       "    Qtd Personagens Reais  Qtd Personagens Imaginarios  \\\n",
       "0                       0                            1   \n",
       "1                       1                            1   \n",
       "2                       1                            1   \n",
       "3                       1                            1   \n",
       "4                       1                            1   \n",
       "5                       1                            1   \n",
       "6                       1                            1   \n",
       "7                       1                            1   \n",
       "8                       1                            1   \n",
       "9                       1                            1   \n",
       "10                      1                            1   \n",
       "11                      1                            1   \n",
       "\n",
       "    Qtd Personagens Criancas  Qtd Personagens Adultos  Qtd Personagens Idosos  \\\n",
       "0                          1                        0                       0   \n",
       "1                          1                        1                       0   \n",
       "2                          0                        1                       1   \n",
       "3                          0                        1                       1   \n",
       "4                          0                        1                       1   \n",
       "5                          1                        1                       1   \n",
       "6                          0                        1                       1   \n",
       "7                          0                        1                       1   \n",
       "8                          1                        1                       0   \n",
       "9                          0                        1                       0   \n",
       "10                         0                        2                       0   \n",
       "11                         0                        1                       1   \n",
       "\n",
       "    Qtd Personagens Animais  Qtd Locais           Locais  Qtd Turnos  \\\n",
       "0                         0           1         Floresta           2   \n",
       "1                         1           2  Mangue;Floresta           2   \n",
       "2                         0           1            Rural           1   \n",
       "3                         0           2     Rural;Urbano           1   \n",
       "4                         0           1            Rural           1   \n",
       "5                         0           2     Rural;Urbano           1   \n",
       "6                         0           1            Rural           1   \n",
       "7                         1           1         Floresta           1   \n",
       "8                         0           1            Rural           1   \n",
       "9                         1           1         Floresta           1   \n",
       "10                        1           1         Floresta           1   \n",
       "11                        0           1          Litoral           1   \n",
       "\n",
       "       Turnos  Qtd Publicos              Publicos       Periodo  \n",
       "0   Dia;Noite             3  Criança;Adulto;Idoso  Não definido  \n",
       "1   Dia;Noite             2          Adulto;Idoso  Não definido  \n",
       "2       Noite             2          Adulto;Idoso  Não definido  \n",
       "3       Noite             2          Adulto;Idoso  Não definido  \n",
       "4       Noite             2          Adulto;Idoso  Não definido  \n",
       "5       Noite             3  Criança;Adulto;Idoso  Não definido  \n",
       "6       Noite             2          Adulto;Idoso  Não definido  \n",
       "7       Noite             2          Adulto;Idoso  Não definido  \n",
       "8         Dia             3  Criança;Adulto;Idoso  Não definido  \n",
       "9       Noite             2          Adulto;Idoso  Não definido  \n",
       "10      Noite             3  Criança;Adulto;Idoso  Não definido  \n",
       "11        Dia             3  Criança;Adulto;Idoso  Não definido  "
      ]
     },
     "execution_count": 2,
     "metadata": {},
     "output_type": "execute_result"
    }
   ],
   "source": [
    "import pandas as pd\n",
    "narrativas = pd.read_csv('Narrativas.csv')\n",
    "narrativas"
   ]
  },
  {
   "cell_type": "code",
   "execution_count": 11,
   "id": "13905cad-9a27-493e-98a2-6cf370a554a0",
   "metadata": {},
   "outputs": [
    {
     "data": {
      "text/plain": [
       "12"
      ]
     },
     "execution_count": 11,
     "metadata": {},
     "output_type": "execute_result"
    }
   ],
   "source": [
    "#Quantidade total de narrativas (explicar em texto)\n",
    "narrativas['Titulo'].count()"
   ]
  },
  {
   "cell_type": "code",
   "execution_count": 3,
   "id": "b3de00ae-c666-4b32-b3f3-93ef563d5675",
   "metadata": {},
   "outputs": [
    {
     "data": {
      "text/plain": [
       "Tipo\n",
       "Conto       3\n",
       "História    7\n",
       "Lenda       2\n",
       "Name: Tipo, dtype: int64"
      ]
     },
     "execution_count": 3,
     "metadata": {},
     "output_type": "execute_result"
    }
   ],
   "source": [
    "#Quantas narrativas tem por tipo\n",
    "narrativas.groupby('Tipo')['Tipo'].count()"
   ]
  },
  {
   "cell_type": "code",
   "execution_count": 12,
   "id": "bc392f38-b34f-4896-89fa-765d95f8b5e6",
   "metadata": {},
   "outputs": [
    {
     "data": {
      "image/png": "[encoded data removed]",
      "text/plain": [
       "<Figure size 640x480 with 1 Axes>"
      ]
     },
     "metadata": {},
     "output_type": "display_data"
    }
   ],
   "source": [
    "import matplotlib.pyplot as plt\n",
    "\n",
    "y = narrativas.groupby('Tipo')['Tipo'].count().values\n",
    "x = narrativas.groupby('Tipo')['Tipo'].count().index\n",
    "plt.bar(x,y)\n",
    "plt.show()"
   ]
  },
  {
   "cell_type": "code",
   "execution_count": 6,
   "id": "86577713-1fd5-42a0-b7c2-c690e66a3152",
   "metadata": {},
   "outputs": [
    {
     "data": {
      "image/png": "[encoded data removed]",
      "text/plain": [
       "<Figure size 640x480 with 1 Axes>"
      ]
     },
     "metadata": {},
     "output_type": "display_data"
    }
   ],
   "source": [
    "# Quantidade total de narrativas que possuem personagens reais e imaginários por Tipo (gráfico de barras)\n",
    "# Reais\n",
    "narrativas.groupby('Tipo')['Qtd Personagens Reais'].sum()\n",
    "y_real = narrativas.groupby('Tipo')['Qtd Personagens Reais'].sum().values\n",
    "x = narrativas.groupby('Tipo')['Qtd Personagens Reais'].sum().index\n",
    "plt.title('Personagens Reais por Tipo')\n",
    "plt.bar(x,y_real)\n",
    "plt.show()"
   ]
  },
  {
   "cell_type": "code",
   "execution_count": 7,
   "id": "22a72032-bf6b-451a-a1b5-d121bc01ce50",
   "metadata": {},
   "outputs": [
    {
     "data": {
      "image/png": "[encoded data removed]",
      "text/plain": [
       "<Figure size 640x480 with 1 Axes>"
      ]
     },
     "metadata": {},
     "output_type": "display_data"
    }
   ],
   "source": [
    "# Imaginários\n",
    "y_imaginario = narrativas.groupby('Tipo')['Qtd Personagens Imaginarios'].sum().values\n",
    "x = narrativas.groupby('Tipo')['Qtd Personagens Imaginarios'].sum().index\n",
    "plt.title('Personagens Imaginários por Tipo')\n",
    "plt.bar(x,y_imaginario)\n",
    "plt.show()"
   ]
  },
  {
   "cell_type": "code",
   "execution_count": 8,
   "id": "83a90bcb-a4be-403c-844d-f4f9f81ea835",
   "metadata": {},
   "outputs": [
    {
     "data": {
      "text/plain": [
       "Text(0.5, 1.0, 'Imaginários')"
      ]
     },
     "execution_count": 8,
     "metadata": {},
     "output_type": "execute_result"
    },
    {
     "data": {
      "image/png": "[encoded data removed]",
      "text/plain": [
       "<Figure size 640x480 with 2 Axes>"
      ]
     },
     "metadata": {},
     "output_type": "display_data"
    }
   ],
   "source": [
    "fig, axs = plt.subplots(2)\n",
    "fig.suptitle('Gráfico por tipo')\n",
    "axs[0].bar(x, y_real)\n",
    "axs[0].set_title('Reais')\n",
    "axs[1].bar(x, y_imaginario)\n",
    "axs[1].set_title('Imaginários')"
   ]
  },
  {
   "cell_type": "code",
   "execution_count": 9,
   "id": "baa32633-154f-47b5-9a2d-2b6d7cb6222c",
   "metadata": {},
   "outputs": [
    {
     "data": {
      "text/plain": [
       "<Figure size 1500x500 with 0 Axes>"
      ]
     },
     "metadata": {},
     "output_type": "display_data"
    },
    {
     "data": {
      "image/png": "[encoded data removed]",
      "text/plain": [
       "<Figure size 640x480 with 2 Axes>"
      ]
     },
     "metadata": {},
     "output_type": "display_data"
    }
   ],
   "source": [
    "plt.figure(figsize=(15,5))\n",
    "fig, (ax1, ax2) = plt.subplots(1, 2)\n",
    "fig.suptitle('Quantidade de Personsagens Reais e Imaginários por Tipo de Narrativa')\n",
    "ax1.bar(x, y_real)\n",
    "ax1.set_title('Real')\n",
    "ax2.bar(x, y_imaginario)\n",
    "ax2.set_title('Imaginário')\n",
    "plt.show()"
   ]
  },
  {
   "cell_type": "code",
   "execution_count": null,
   "id": "f6054c6f-5380-40c8-abd2-18a28a507555",
   "metadata": {},
   "outputs": [],
   "source": []
  },
  {
   "cell_type": "code",
   "execution_count": null,
   "id": "811a7bbf-e6b3-4259-ac42-7a9215046099",
   "metadata": {},
   "outputs": [],
   "source": []
  }
 ],
 "metadata": {
  "kernelspec": {
   "display_name": "Python 3 (ipykernel)",
   "language": "python",
   "name": "python3"
  },
  "language_info": {
   "codemirror_mode": {
    "name": "ipython",
    "version": 3
   },
   "file_extension": ".py",
   "mimetype": "text/x-python",
   "name": "python",
   "nbconvert_exporter": "python",
   "pygments_lexer": "ipython3",
   "version": "3.10.4"
  }
 },
 "nbformat": 4,
 "nbformat_minor": 5
}
